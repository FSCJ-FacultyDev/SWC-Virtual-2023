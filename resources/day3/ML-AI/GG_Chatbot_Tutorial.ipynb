{
  "cells": [
    {
      "cell_type": "code",
      "execution_count": null,
      "metadata": {
        "id": "AXgNQkFHBbLV"
      },
      "outputs": [],
      "source": [
        "#Description:  This is a 'Smart' chat bot program"
      ]
    },
    {
      "cell_type": "code",
      "execution_count": null,
      "metadata": {
        "id": "rRNjVfO2C7CW"
      },
      "outputs": [],
      "source": [
        "pip install nltk"
      ]
    },
    {
      "cell_type": "code",
      "execution_count": null,
      "metadata": {
        "id": "8thPiJ5bDDIe"
      },
      "outputs": [],
      "source": [
        "pip install newspaper3k"
      ]
    },
    {
      "cell_type": "code",
      "execution_count": null,
      "metadata": {
        "id": "NBbulpwADSl2"
      },
      "outputs": [],
      "source": [
        "#Import the libraries\n",
        "from newspaper import Article\n",
        "import random\n",
        "import string\n",
        "import nltk\n",
        "from sklearn.feature_extraction.text import CountVectorizer\n",
        "from sklearn.metrics.pairwise import cosine_similarity\n",
        "import numpy as np\n",
        "import warnings\n",
        "warnings.filterwarnings('ignore')"
      ]
    },
    {
      "cell_type": "code",
      "execution_count": null,
      "metadata": {
        "id": "lhCskeCDECx-"
      },
      "outputs": [],
      "source": [
        "#Download the punkt package\n",
        "nltk.download('punkt', quiet=True)\n"
      ]
    },
    {
      "cell_type": "code",
      "execution_count": null,
      "metadata": {
        "id": "2s2ppWiuIsfb"
      },
      "outputs": [],
      "source": [
        "#Get the article\n",
        "#article = Article('https://www.mayoclinic.org/diseases-conditions/chronic-kidney-disease/symptoms-causes/syc-20354521')\n",
        "article = Article('https://en.wikipedia.org/wiki/Tour_de_France')\n",
        "article.download()\n",
        "article.parse()\n",
        "article.nlp()\n",
        "corpus = article.text\n"
      ]
    },
    {
      "cell_type": "code",
      "execution_count": null,
      "metadata": {
        "id": "dQJL-Bb7L4d_"
      },
      "outputs": [],
      "source": [
        "#Print the articles Text\n",
        "print(corpus)"
      ]
    },
    {
      "cell_type": "code",
      "execution_count": null,
      "metadata": {
        "id": "v_HFa7jkMH9v"
      },
      "outputs": [],
      "source": [
        "#Segmentation\n",
        "text = corpus\n",
        "sentence_list = nltk.sent_tokenize(text) #A list of sentences"
      ]
    },
    {
      "cell_type": "code",
      "execution_count": null,
      "metadata": {
        "id": "PwzDn9rXNB_f"
      },
      "outputs": [],
      "source": [
        "#Print the list of sentences\n",
        "print(sentence_list)"
      ]
    },
    {
      "cell_type": "code",
      "execution_count": null,
      "metadata": {
        "id": "oaPXWTCSNJI_"
      },
      "outputs": [],
      "source": [
        "#A function to return a random greeting response to a users greeting\n",
        "#An Intent  -- greeting\n",
        "def greeting_response(text):\n",
        "  text = text.lower()\n",
        "\n",
        "  #Bots greeting response\n",
        "  bot_greetings = ['howdy','hi','hey','hello','hola', 'yo', 'que tal']\n",
        "  #Users greeting\n",
        "  user_greetings = ['hi','hey','hello','hola', 'greetings', 'wassup']\n",
        "\n",
        "  #loops through each word in text\n",
        "  for word in text.split():\n",
        "    if word in user_greetings:\n",
        "      return random.choice(bot_greetings)\n"
      ]
    },
    {
      "cell_type": "code",
      "execution_count": null,
      "metadata": {
        "id": "F5r91fjcSZQ9"
      },
      "outputs": [],
      "source": [
        "def index_sort(list_var):\n",
        "  length = len(list_var)\n",
        "  list_index = list(range(0, length))\n",
        "\n",
        "  x = list_var\n",
        "  for i in range(length):\n",
        "    for j in range(length):\n",
        "      if x[list_index[i]] > x[list_index[j]]:\n",
        "        #Swap\n",
        "        temp = list_index[i]\n",
        "        list_index[i] = list_index[j]\n",
        "        list_index[j] = temp\n",
        "\n",
        "  return list_index"
      ]
    },
    {
      "cell_type": "code",
      "execution_count": null,
      "metadata": {
        "id": "MdR0hDWQPR5N"
      },
      "outputs": [],
      "source": [
        "#Create the bots reponse\n",
        "def bot_response(user_input):\n",
        "    #make them all lower case\n",
        "    user_input = user_input.lower()\n",
        "\n",
        "    #adds the user_input to the sentence list\n",
        "    sentence_list.append(user_input)\n",
        "\n",
        "    #create an empty bot response\n",
        "    bot_response = ''\n",
        "\n",
        "    #Create a count matrix from the sentence list\n",
        "    cm = CountVectorizer().fit_transform(sentence_list)\n",
        "\n",
        "    #get the similarity score - compares the user_input\n",
        "    #(the last line in the counter maxtrix cm[-1])\n",
        "    #to everything in the matrix itself\n",
        "    similarity_scores = cosine_similarity(cm[-1], cm)\n",
        "\n",
        "    #reduce the dimensionality of the similarity_scores\n",
        "    #and store it in similarity_scores_list\n",
        "    similarity_scores_list = similarity_scores.flatten()\n",
        "\n",
        "    #Create a list of the indices of similarity_scores_list\n",
        "    #sorted in decending order their values\n",
        "    index = index_sort(similarity_scores_list)\n",
        "\n",
        "    #Drop the first element (the user's input) from index\n",
        "    index = index[1:]\n",
        "\n",
        "    #signals that a response was generated to the user\n",
        "    response_flag = 0\n",
        "\n",
        "    #a counter of similar sentences found\n",
        "    j = 0\n",
        "\n",
        "    for i in range(len(index)):\n",
        "      #if similarity score > 0 - match found\n",
        "      if similarity_scores_list[index[i]]>0.0:\n",
        "        #add the found sentence to the bot's response\n",
        "        bot_response = bot_response+' '+sentence_list[index[i]]\n",
        "        #signal that a response was generated\n",
        "        response_flag =1\n",
        "        #increment the found sentences counter\n",
        "        j = j+1\n",
        "      #only generate 2 possible responses\n",
        "      if j > 2:\n",
        "        break\n",
        "\n",
        "    #if no sentences were found\n",
        "    if response_flag == 0:\n",
        "      #nice way of of saying nothing found\n",
        "      bot_response = bot_response+ ' '+ \"I apologize, I don't understand.\"\n",
        "\n",
        "    #removes the user's input in preperation for the next comparsion\n",
        "    sentence_list.remove(user_input)\n",
        "\n",
        "    return bot_response"
      ]
    },
    {
      "cell_type": "code",
      "execution_count": null,
      "metadata": {
        "id": "AZGND-HGrpGN"
      },
      "outputs": [],
      "source": [
        "#Start the chat\n",
        "print('Doc Bot: I am Doctor Bot or Doc Bot for short. I will answer your queries about Chronic Kidney Disease. If you want to exit, type bye.')\n",
        "\n",
        "#list to break infinite loop\n",
        "exit_list = ['exit','see you later', 'bye', 'quit', 'break']\n",
        "\n",
        "#infinite loop\n",
        "while(True):\n",
        "  user_input = input()\n",
        "  if user_input.lower() in exit_list:\n",
        "    print('Doc Bot: Chat with you later!')\n",
        "    break\n",
        "  else:\n",
        "    if greeting_response(user_input) != None:\n",
        "      print('Doc Bot: '+greeting_response(user_input))\n",
        "    else:\n",
        "      print('Doc Bot: '+bot_response(user_input))"
      ]
    }
  ],
  "metadata": {
    "colab": {
      "provenance": []
    },
    "kernelspec": {
      "display_name": "Python 3",
      "language": "python",
      "name": "python3"
    },
    "language_info": {
      "codemirror_mode": {
        "name": "ipython",
        "version": 3
      },
      "file_extension": ".py",
      "mimetype": "text/x-python",
      "name": "python",
      "nbconvert_exporter": "python",
      "pygments_lexer": "ipython3",
      "version": "3.8.8"
    }
  },
  "nbformat": 4,
  "nbformat_minor": 0
}