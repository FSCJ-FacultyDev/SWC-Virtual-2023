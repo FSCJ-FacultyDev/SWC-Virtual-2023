{
  "cells": [
    {
      "cell_type": "markdown",
      "id": "be673363",
      "metadata": {
        "id": "be673363"
      },
      "source": [
        "# Jupyter formatting syntax\n",
        "bold is ** before and after\n",
        "italic is _ or * before and after\n",
        "underline is < ins> < /ins>\n",
        "adding an image in html: < img src=\"filename\" align = \"right/left/center\" width=### height=### / >\n"
      ]
    },
    {
      "cell_type": "markdown",
      "id": "a3b64bde",
      "metadata": {
        "id": "a3b64bde"
      },
      "source": [
        "![SWC22-Pandas.PythonPandasLogo.jpg](data:image/jpeg;base64,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)\n",
        "- Pandas is a data analysis library built on top of NumPy.\n",
        "- Pandas provides data structures and operations for manipulating data using DataFrames\n",
        "- DataFrames are multidimensional arrays with attached row and column labels.\n",
        "- DataFrames can include heterogeneous types and/or missing data.\n",
        "- Pandas also provides functions for handling data in a similar fashion to database frameworks and spreadsheet programs.\n",
        "\n"
      ]
    },
    {
      "cell_type": "code",
      "execution_count": null,
      "id": "fb5799a3",
      "metadata": {
        "id": "fb5799a3"
      },
      "outputs": [],
      "source": [
        "# use NumPy and Pandas\n",
        "import numpy as np\n",
        "import pandas as pd\n",
        "print(\"Pandas version is\", pd.__version__)"
      ]
    },
    {
      "cell_type": "markdown",
      "id": "0a934cef",
      "metadata": {
        "id": "0a934cef"
      },
      "source": [
        "# The Series Object\n",
        "- A Pandas **Series** is a one-dimensional array of indexed data. It can be created from a list or array.\n",
        "    - A Series wraps both a sequence of values and a sequence of indices, which can be used to access with the values and index attributes.\n",
        "    - The values are simply a familiar NumPy array\n"
      ]
    },
    {
      "cell_type": "code",
      "execution_count": null,
      "id": "baad3262",
      "metadata": {
        "id": "baad3262"
      },
      "outputs": [],
      "source": [
        "atad = pd.Series([0.52, 0.8, 0.63, 4.0], index = ['a', 'b', 'c', 'd'])\n",
        "print(atad)\n",
        "print()\n",
        "print(atad.values)"
      ]
    },
    {
      "cell_type": "markdown",
      "id": "e7501248",
      "metadata": {
        "id": "e7501248"
      },
      "source": [
        "# The Series Index\n",
        "- The Series index is an array-like object of type pd.Index\n",
        "    - Like with a NumPy array, data can be accessed by the associated index using square-bracket notation\n",
        "    - The Pandas Series is much more general and flexible than the one-dimensional NumPy array that it emulates.\n"
      ]
    },
    {
      "cell_type": "code",
      "execution_count": null,
      "id": "75b5e4fe",
      "metadata": {
        "scrolled": true,
        "id": "75b5e4fe"
      },
      "outputs": [],
      "source": [
        "data = pd.Series([0.25, 0.5, 0.79, 1.0])\n",
        "data"
      ]
    },
    {
      "cell_type": "code",
      "execution_count": null,
      "id": "5adc6365",
      "metadata": {
        "id": "5adc6365"
      },
      "outputs": [],
      "source": [
        "#index of the data series\n",
        "data.index"
      ]
    },
    {
      "cell_type": "code",
      "execution_count": null,
      "id": "90357fa3",
      "metadata": {
        "id": "90357fa3"
      },
      "outputs": [],
      "source": [
        "#the element at index 1\n",
        "data[1]"
      ]
    },
    {
      "cell_type": "code",
      "execution_count": null,
      "id": "220f64f8",
      "metadata": {
        "id": "220f64f8"
      },
      "outputs": [],
      "source": [
        "#a slice of a series (start:stop)\n",
        "data[1:3]"
      ]
    },
    {
      "cell_type": "markdown",
      "id": "94b2f81e",
      "metadata": {
        "id": "94b2f81e"
      },
      "source": [
        "# Python Dictionaries and Pandas Series\n",
        "- A Pandas Series is similar to a specialized Python dictionary.\n",
        "    - A dictionary maps arbitrary keys to a set of arbitrary values; a Series maps typed keys to a set of typed values.\n",
        "    - The type information of a Pandas Series is much more efficient than Python dictionaries for certain operations.\n",
        "- Construct a Series object directly from a Python dictionary:\n"
      ]
    },
    {
      "cell_type": "code",
      "execution_count": null,
      "id": "e87d537d",
      "metadata": {
        "id": "e87d537d"
      },
      "outputs": [],
      "source": [
        "#create a dictionary of key:value pairs\n",
        "population_dict = {'California': 38332521,\n",
        "                   'Texas': 26448193,\n",
        "                   'New York': 19651127,\n",
        "                   'Florida': 19552860,\n",
        "                   'Illinois': 12882135}\n",
        "population_dict"
      ]
    },
    {
      "cell_type": "code",
      "execution_count": null,
      "id": "9eac9217",
      "metadata": {
        "id": "9eac9217"
      },
      "outputs": [],
      "source": [
        "#create a Pandas series from a Python dictionary\n",
        "population = pd.Series(population_dict)\n",
        "population"
      ]
    },
    {
      "cell_type": "code",
      "execution_count": null,
      "id": "57c22831",
      "metadata": {
        "id": "57c22831"
      },
      "outputs": [],
      "source": [
        "#notice the difference between printing the Python dictionary and printing the Pandas Series\n",
        "#there is an implied for:each loop to print each element on a separate line.\n",
        "print(\"Dictionary:\")\n",
        "print(population_dict)\n",
        "print(\"\\nSeries:\")\n",
        "print(population)\n"
      ]
    },
    {
      "cell_type": "markdown",
      "id": "34bcc539",
      "metadata": {
        "id": "34bcc539"
      },
      "source": [
        "### Dictionary-style item access can be used with a Series:\n",
        "\n"
      ]
    },
    {
      "cell_type": "code",
      "execution_count": null,
      "id": "bb5c2da4",
      "metadata": {
        "id": "bb5c2da4"
      },
      "outputs": [],
      "source": [
        "population['California']"
      ]
    },
    {
      "cell_type": "markdown",
      "id": "39650e2f",
      "metadata": {
        "id": "39650e2f"
      },
      "source": [
        "- Unlike a dictionary, the Series also supports Numpy array-style operations such as slicing:"
      ]
    },
    {
      "cell_type": "code",
      "execution_count": null,
      "id": "de1c2bf9",
      "metadata": {
        "id": "de1c2bf9"
      },
      "outputs": [],
      "source": [
        "population['California':'New York']"
      ]
    },
    {
      "cell_type": "markdown",
      "id": "a74ae7b6",
      "metadata": {
        "id": "a74ae7b6"
      },
      "source": [
        "# Creating a Series\n",
        "- Creating a Series is almost always some form of\n",
        "            pd.Series(data, index = index)\n",
        "- where index is an optional argument, and data can be one of many entities (e.g., list, dictionary, Numpy array)."
      ]
    },
    {
      "cell_type": "code",
      "execution_count": null,
      "id": "e789129e",
      "metadata": {
        "id": "e789129e"
      },
      "outputs": [],
      "source": [
        "# simple scalar series\n",
        "pd.Series([2, 4, 6])"
      ]
    },
    {
      "cell_type": "code",
      "execution_count": null,
      "id": "c957cedf",
      "metadata": {
        "id": "c957cedf"
      },
      "outputs": [],
      "source": [
        "# scalar series, fill with 5's and specify index\n",
        "pd.Series(5, index=[100, 200, 300])"
      ]
    },
    {
      "cell_type": "code",
      "execution_count": null,
      "id": "edbc5e94",
      "metadata": {
        "id": "edbc5e94"
      },
      "outputs": [],
      "source": [
        "# simple dictionary-based series\n",
        "pd.Series({2:'a', 1:'b', 3:'c'})"
      ]
    },
    {
      "cell_type": "code",
      "execution_count": null,
      "id": "68d424b0",
      "metadata": {
        "id": "68d424b0"
      },
      "outputs": [],
      "source": [
        "# populate using only specified keys (by index)\n",
        "print(pd.Series({2:'a', 1:'b', 3:'c'}, index=[3, 2]))"
      ]
    },
    {
      "cell_type": "markdown",
      "id": "40633105",
      "metadata": {
        "id": "40633105"
      },
      "source": [
        "# DataFrames\n",
        "- The DataFrame can also be thought of either as a generalization of a NumPy array, or as a specialization of a Python dictionary.\n",
        "- A DataFrame is comparable to a two-dimensional array with both flexible row indices and flexible column names.\n",
        "- Just as you might think of a two-dimensional array as an ordered sequence of aligned one-dimensional columns, you can think of a DataFrame as a sequence of aligned Series objects.\n",
        "\n"
      ]
    },
    {
      "cell_type": "markdown",
      "id": "cafe530b",
      "metadata": {
        "id": "cafe530b"
      },
      "source": [
        "### Construct a new area Series which parallels the population Series created earlier, then create a two-dimensional DataFrame using those objects"
      ]
    },
    {
      "cell_type": "code",
      "execution_count": null,
      "id": "1671cc4e",
      "metadata": {
        "id": "1671cc4e"
      },
      "outputs": [],
      "source": [
        "#recall the population_dict from above\n",
        "population_dict = {'California': 38332521,\n",
        "                   'Texas': 26448193,\n",
        "                   'New York': 19651127,\n",
        "                   'Florida': 19552860,\n",
        "                   'Illinois': 12882135}"
      ]
    },
    {
      "cell_type": "code",
      "execution_count": null,
      "id": "faab9424",
      "metadata": {
        "id": "faab9424"
      },
      "outputs": [],
      "source": [
        "#and the Pandas Series created from that dictionary\n",
        "population = pd.Series(population_dict)\n",
        "population"
      ]
    },
    {
      "cell_type": "code",
      "execution_count": null,
      "id": "83b7a695",
      "metadata": {
        "id": "83b7a695"
      },
      "outputs": [],
      "source": [
        "#create a new area dictionary for the same states\n",
        "area_dict = {'California': 423967,\n",
        "             'Texas': 695662,\n",
        "             'New York': 141297,\n",
        "             'Florida': 170312,\n",
        "             'Illinois': 149995}"
      ]
    },
    {
      "cell_type": "code",
      "execution_count": null,
      "id": "47079fc0",
      "metadata": {
        "id": "47079fc0"
      },
      "outputs": [],
      "source": [
        "#create a Pandas Series from the area dictionary\n",
        "area = pd.Series(area_dict)\n",
        "area"
      ]
    },
    {
      "cell_type": "code",
      "execution_count": null,
      "id": "9432897d",
      "metadata": {
        "id": "9432897d"
      },
      "outputs": [],
      "source": [
        "#create a DataFrame from the two Series\n",
        "states = pd.DataFrame({'population': population,\n",
        "                       'area': area})\n",
        "states"
      ]
    },
    {
      "cell_type": "markdown",
      "id": "ac360de2",
      "metadata": {
        "id": "ac360de2"
      },
      "source": [
        "### DataFrame attributes\n",
        "\n",
        "- DataFrames have an index and a column attribute"
      ]
    },
    {
      "cell_type": "code",
      "execution_count": null,
      "id": "a0c9ed07",
      "metadata": {
        "id": "a0c9ed07"
      },
      "outputs": [],
      "source": [
        "#index refers to the row headings\n",
        "states.index"
      ]
    },
    {
      "cell_type": "code",
      "execution_count": null,
      "id": "c3b1be79",
      "metadata": {
        "id": "c3b1be79"
      },
      "outputs": [],
      "source": [
        "states.columns"
      ]
    },
    {
      "cell_type": "code",
      "execution_count": null,
      "id": "5d6d99a9",
      "metadata": {
        "id": "5d6d99a9"
      },
      "outputs": [],
      "source": [
        "#DataFrames use colum values as indices to a series\n",
        "states['area']"
      ]
    },
    {
      "cell_type": "markdown",
      "id": "da4f7f63",
      "metadata": {
        "id": "da4f7f63"
      },
      "source": [
        "### A DataFrame from a list of Dictionaries"
      ]
    },
    {
      "cell_type": "code",
      "execution_count": null,
      "id": "d8193cdc",
      "metadata": {
        "id": "d8193cdc"
      },
      "outputs": [],
      "source": [
        "data = [{'a': i, 'b': 2 * i}\n",
        "        for i in range(3)]\n",
        "data\n",
        "\n"
      ]
    },
    {
      "cell_type": "code",
      "execution_count": null,
      "id": "dbb796e8",
      "metadata": {
        "id": "dbb796e8"
      },
      "outputs": [],
      "source": [
        "pd.DataFrame(data)"
      ]
    },
    {
      "cell_type": "markdown",
      "id": "0dab929f",
      "metadata": {
        "id": "0dab929f"
      },
      "source": [
        "## Missing Values\n",
        "- Missing values are filled with NaN (\"not-a-number\")\n",
        "- This behavior is important; in data science missing values can impact analytical results and should be dealt with consistently\n",
        "- https://towardsdatascience.com/navigating-the-hell-of-nans-in-python-71b12558895b\n"
      ]
    },
    {
      "cell_type": "code",
      "execution_count": null,
      "id": "a5fac448",
      "metadata": {
        "id": "a5fac448"
      },
      "outputs": [],
      "source": [
        "data=[{'a': 1, 'b': 2},\n",
        "      {'b': 3, 'c': 4}]\n",
        "data"
      ]
    },
    {
      "cell_type": "code",
      "execution_count": null,
      "id": "cc8a2dc3",
      "metadata": {
        "id": "cc8a2dc3"
      },
      "outputs": [],
      "source": [
        "pd.DataFrame(data)"
      ]
    },
    {
      "cell_type": "markdown",
      "id": "0296840e",
      "metadata": {
        "id": "0296840e"
      },
      "source": [
        "# A DataFrame from a 2D Array\n",
        "- Given a two-dimensional array of data, a DataFrame can be created with any specified  column and index name.\n",
        "    - If the names are omitted, an integer index will be used for each\n"
      ]
    },
    {
      "cell_type": "code",
      "execution_count": null,
      "id": "5fabd25c",
      "metadata": {
        "id": "5fabd25c"
      },
      "outputs": [],
      "source": [
        "pd.DataFrame(np.random.rand(3, 2),\n",
        "      columns=['foo', 'bar'],\n",
        "      index=['a', 'b', 'c'])"
      ]
    },
    {
      "cell_type": "markdown",
      "id": "ba160c49",
      "metadata": {
        "id": "ba160c49"
      },
      "source": [
        "# The Pandas Index is an Object\n",
        "- Both the Series and DataFrame objects in Pandas contain an explicit index that lets you reference and modify data\n",
        "- A Pandas Index is itself an object that may contain repeated values\n",
        "- It can be thought of either as an immutable array or as an ordered set (technically a multiset -- a set which allows multiple instances of each of its elements)\n",
        "- This has some interesting consequences in operations available on Index objects.\n"
      ]
    },
    {
      "cell_type": "code",
      "execution_count": null,
      "id": "2c5a483a",
      "metadata": {
        "id": "2c5a483a"
      },
      "outputs": [],
      "source": [
        "ind = pd.Index([2, 3, 5, 7, 11])\n",
        "ind"
      ]
    },
    {
      "cell_type": "markdown",
      "id": "b0762e24",
      "metadata": {
        "id": "b0762e24"
      },
      "source": [
        "## Array-like Behavior of a Pandas Index\n",
        "- The Index object in many ways operates like an array.\n",
        "    - Indexing notation to retrieve values or slices\n",
        "    - Index objects have many of the attributes familiar from NumPy arrays\n"
      ]
    },
    {
      "cell_type": "code",
      "execution_count": null,
      "id": "c672e50b",
      "metadata": {
        "id": "c672e50b"
      },
      "outputs": [],
      "source": [
        "ind[1]"
      ]
    },
    {
      "cell_type": "code",
      "execution_count": null,
      "id": "76f906a1",
      "metadata": {
        "id": "76f906a1"
      },
      "outputs": [],
      "source": [
        "ind[::2]"
      ]
    },
    {
      "cell_type": "markdown",
      "id": "620bbc4b",
      "metadata": {
        "id": "620bbc4b"
      },
      "source": [
        "## A Pandas Index is Immutable\n",
        "- One difference between Index objects and NumPy arrays is that indices are immutable; they cannot be modified in place.\n",
        "- This makes it safer to share indices between multiple DataFrames and arrays, without the potential for side effects from inadvertent index modification.\n"
      ]
    },
    {
      "cell_type": "code",
      "execution_count": null,
      "id": "876394dc",
      "metadata": {
        "id": "876394dc"
      },
      "outputs": [],
      "source": [
        "ind[1] = 0"
      ]
    },
    {
      "cell_type": "markdown",
      "id": "920b8788",
      "metadata": {
        "id": "920b8788"
      },
      "source": [
        "## The Pandas Index as an Ordered Set\n",
        "- Pandas objects are designed to facilitate operations such as joins across datasets\n",
        "- The Index object follows many of the conventions used by Python’s built-in set data structure, so that unions, intersections, differences, and other combinations can be computed.\n"
      ]
    },
    {
      "cell_type": "code",
      "execution_count": null,
      "id": "33bdc95e",
      "metadata": {
        "id": "33bdc95e"
      },
      "outputs": [],
      "source": [
        "#create two index objects\n",
        "indA = pd.Index([1, 3, 5, 7, 9])\n",
        "indB = pd.Index([2, 3, 5, 7, 11])"
      ]
    },
    {
      "cell_type": "code",
      "execution_count": null,
      "id": "095d88b1",
      "metadata": {
        "id": "095d88b1"
      },
      "outputs": [],
      "source": [
        "#indA & indB --> intersection: the & usage is deprecated, use the intersection method\n",
        "\n",
        "indA.intersection(indB)\n"
      ]
    },
    {
      "cell_type": "code",
      "execution_count": null,
      "id": "ccf5e73f",
      "metadata": {
        "id": "ccf5e73f"
      },
      "outputs": [],
      "source": [
        "# indA ^ indB --> symmetric difference (\"exclusive OR\"): the ^ usage is deprecated\n",
        "\n",
        "indA.symmetric_difference(indB)"
      ]
    },
    {
      "cell_type": "code",
      "execution_count": null,
      "id": "2c3c6422",
      "metadata": {
        "id": "2c3c6422"
      },
      "outputs": [],
      "source": [
        "# indA | indB  --> union: The | usage is deprecated\n",
        "\n",
        "indA.union(indB)\n"
      ]
    },
    {
      "cell_type": "markdown",
      "id": "58222543",
      "metadata": {
        "id": "58222543"
      },
      "source": [
        "# Series as a Dictionary\n",
        "- Like a dictionary, the series object provides a mapping from a collection of keys to a collection of values"
      ]
    },
    {
      "cell_type": "code",
      "execution_count": null,
      "id": "41860602",
      "metadata": {
        "id": "41860602"
      },
      "outputs": [],
      "source": [
        "data = pd.Series([0.25, 0.5, 0.75, 1.0],\n",
        "                index=['a', 'b', 'c', 'd'])"
      ]
    },
    {
      "cell_type": "code",
      "execution_count": null,
      "id": "14e4f30b",
      "metadata": {
        "id": "14e4f30b"
      },
      "outputs": [],
      "source": [
        "data"
      ]
    },
    {
      "cell_type": "code",
      "execution_count": null,
      "id": "05e3a040",
      "metadata": {
        "id": "05e3a040"
      },
      "outputs": [],
      "source": [
        "data['b']"
      ]
    },
    {
      "cell_type": "markdown",
      "id": "76a8a074",
      "metadata": {
        "id": "76a8a074"
      },
      "source": [
        "### We can use dictionary-like expressions and methods to examine keys/indices and values"
      ]
    },
    {
      "cell_type": "code",
      "execution_count": null,
      "id": "4ad40508",
      "metadata": {
        "id": "4ad40508"
      },
      "outputs": [],
      "source": [
        "'a' in data"
      ]
    },
    {
      "cell_type": "code",
      "execution_count": null,
      "id": "80cfc10d",
      "metadata": {
        "id": "80cfc10d"
      },
      "outputs": [],
      "source": [
        "data.keys()"
      ]
    },
    {
      "cell_type": "code",
      "execution_count": null,
      "id": "a87a28ec",
      "metadata": {
        "id": "a87a28ec"
      },
      "outputs": [],
      "source": [
        "list(data.items())"
      ]
    },
    {
      "cell_type": "markdown",
      "id": "7e884c1b",
      "metadata": {
        "id": "7e884c1b"
      },
      "source": [
        "### Series objects can even be modified with a dictionary-like syntax\n",
        "- As a dictionary can be extended by assigning to a new key, extend a series by assigning a value to a new index"
      ]
    },
    {
      "cell_type": "code",
      "execution_count": null,
      "id": "b8e8b666",
      "metadata": {
        "id": "b8e8b666"
      },
      "outputs": [],
      "source": [
        "data"
      ]
    },
    {
      "cell_type": "code",
      "execution_count": null,
      "id": "fd54fb8b",
      "metadata": {
        "id": "fd54fb8b"
      },
      "outputs": [],
      "source": [
        "data['e'] = 1.25\n",
        "data"
      ]
    },
    {
      "cell_type": "markdown",
      "id": "506371f1",
      "metadata": {
        "id": "506371f1"
      },
      "source": [
        "# Series as a One-dimensional Array\n",
        "- A series provides array-style item selection using the same basic mechanisms as NumPy array, including slices, masking, and fancy indexing"
      ]
    },
    {
      "cell_type": "code",
      "execution_count": null,
      "id": "34a8d676",
      "metadata": {
        "id": "34a8d676"
      },
      "outputs": [],
      "source": [
        "#slicing by explicit index\n",
        "#NOTE: includes last index!!\n",
        "\n",
        "data['a':'c']\n"
      ]
    },
    {
      "cell_type": "code",
      "execution_count": null,
      "id": "d76c2162",
      "metadata": {
        "id": "d76c2162"
      },
      "outputs": [],
      "source": [
        "#slicing by implicit integer index\n",
        "#NOTE: does NOT include the last index!\n",
        "\n",
        "data[0:2]"
      ]
    },
    {
      "cell_type": "code",
      "execution_count": null,
      "id": "3fed6379",
      "metadata": {
        "id": "3fed6379"
      },
      "outputs": [],
      "source": [
        "#masking\n",
        "data[(data > 0.3) & (data < 0.8)]"
      ]
    },
    {
      "cell_type": "code",
      "execution_count": null,
      "id": "b3a307e2",
      "metadata": {
        "id": "b3a307e2"
      },
      "outputs": [],
      "source": [
        "#fancy indexing -- non-continuous\n",
        "data[['a', 'e']]"
      ]
    },
    {
      "cell_type": "markdown",
      "id": "7f81820c",
      "metadata": {
        "id": "7f81820c"
      },
      "source": [
        "# Indexers\n",
        "### Pandas provides special <ins>indexer</ins> attributes that explicitly expose certain indexing schemes to help prevent confusion when indexing.\n",
        "\n",
        "- Without using the indexers, given a specific index, indexing will use the Series index.\n",
        "- Without using the indexers, slicing will use the Python-style index.\n"
      ]
    },
    {
      "cell_type": "code",
      "execution_count": null,
      "id": "e6a9a825",
      "metadata": {
        "id": "e6a9a825"
      },
      "outputs": [],
      "source": [
        "data = pd.Series(['a', 'b', 'c'],\n",
        "                 index=[1, 3, 5])\n"
      ]
    },
    {
      "cell_type": "code",
      "execution_count": null,
      "id": "47eb4f86",
      "metadata": {
        "id": "47eb4f86"
      },
      "outputs": [],
      "source": [
        "# explicit index\n",
        "print(data[1])"
      ]
    },
    {
      "cell_type": "code",
      "execution_count": null,
      "id": "d4f80f97",
      "metadata": {
        "id": "d4f80f97"
      },
      "outputs": [],
      "source": [
        "# implicit index when slicing --> up to but not including the last index\n",
        "print(data[0:2])"
      ]
    },
    {
      "cell_type": "markdown",
      "id": "224063df",
      "metadata": {
        "id": "224063df"
      },
      "source": [
        "#### The loc attribute allows indexing and slicing that always references the explicit index"
      ]
    },
    {
      "cell_type": "code",
      "execution_count": null,
      "id": "8934e0bb",
      "metadata": {
        "id": "8934e0bb"
      },
      "outputs": [],
      "source": [
        "data.loc[1]"
      ]
    },
    {
      "cell_type": "markdown",
      "id": "ab462d29",
      "metadata": {
        "id": "ab462d29"
      },
      "source": [
        "#### The iloc attribute allows indexing and slicing that always references the implicit Python-style index"
      ]
    },
    {
      "cell_type": "code",
      "execution_count": null,
      "id": "02cf469d",
      "metadata": {
        "id": "02cf469d"
      },
      "outputs": [],
      "source": [
        "data.iloc[1]"
      ]
    },
    {
      "cell_type": "markdown",
      "id": "2cfa76c6",
      "metadata": {
        "id": "2cfa76c6"
      },
      "source": [
        "#### _The explicit nature of loc and iloc make them very useful in maintaining clean and readable code, especially in the case of integer indexes_"
      ]
    },
    {
      "cell_type": "markdown",
      "id": "5652bf38",
      "metadata": {
        "id": "5652bf38"
      },
      "source": [
        "# DataFrame as Dictionary\n",
        "- The individual series that make up the columns of the DataFrame can be accessed via dictionary-style indexing of the column name"
      ]
    },
    {
      "cell_type": "code",
      "execution_count": null,
      "id": "e3d0d9d0",
      "metadata": {
        "id": "e3d0d9d0"
      },
      "outputs": [],
      "source": [
        "area = pd.Series({'California': 423967, 'Texas': 695662,\n",
        "                  'New York': 141297, 'Florida': 170312,\n",
        "                  'Illinois': 149995})\n",
        "pop = pd.Series({'California': 38332521, 'Texas': 26448193,\n",
        "                 'New York': 19651127, 'Florida': 19552860,\n",
        "                 'Illinois': 12882135})\n",
        "data = pd.DataFrame({'area':area, 'pop':pop})"
      ]
    },
    {
      "cell_type": "code",
      "execution_count": null,
      "id": "da383695",
      "metadata": {
        "id": "da383695"
      },
      "outputs": [],
      "source": [
        "data"
      ]
    },
    {
      "cell_type": "code",
      "execution_count": null,
      "id": "a560761d",
      "metadata": {
        "id": "a560761d"
      },
      "outputs": [],
      "source": [
        "data['area']"
      ]
    },
    {
      "cell_type": "code",
      "execution_count": null,
      "id": "e29ac332",
      "metadata": {
        "id": "e29ac332"
      },
      "outputs": [],
      "source": [
        "#we can use attribute-style access with column names that are strings\n",
        "\n",
        "data.area"
      ]
    },
    {
      "cell_type": "code",
      "execution_count": null,
      "id": "87eb57d0",
      "metadata": {
        "id": "87eb57d0"
      },
      "outputs": [],
      "source": [
        "#use the **is** operator to compare identities of each object\n",
        "\n",
        "data.area is data['area']"
      ]
    },
    {
      "cell_type": "code",
      "execution_count": null,
      "id": "196c2f24",
      "metadata": {
        "id": "196c2f24"
      },
      "outputs": [],
      "source": [
        "#the pop method of a data frame\n",
        "data.pop('area')\n"
      ]
    },
    {
      "cell_type": "code",
      "execution_count": null,
      "id": "796c0c73",
      "metadata": {
        "id": "796c0c73"
      },
      "outputs": [],
      "source": [
        "data.columns"
      ]
    },
    {
      "cell_type": "markdown",
      "id": "0109ae27",
      "metadata": {
        "id": "0109ae27"
      },
      "source": [
        "### Dictionary-style syntax can also be used to modify the DataFrame"
      ]
    },
    {
      "cell_type": "code",
      "execution_count": null,
      "id": "1ba9539d",
      "metadata": {
        "id": "1ba9539d"
      },
      "outputs": [],
      "source": [
        "#first, add back the column that was popped previously\n",
        "\n",
        "data['area'] = pd.Series({'California': 423967, 'Texas': 695662,\n",
        "                  'New York': 141297, 'Florida': 170312,\n",
        "                  'Illinois': 149995})\n",
        "data"
      ]
    },
    {
      "cell_type": "code",
      "execution_count": null,
      "id": "c2362570",
      "metadata": {
        "id": "c2362570"
      },
      "outputs": [],
      "source": [
        "#compute density and add the density column to the DataFrame\n",
        "\n",
        "data['density'] = data['pop'] / data['area']\n",
        "\n",
        "data"
      ]
    },
    {
      "cell_type": "markdown",
      "id": "d026e9c6",
      "metadata": {
        "id": "d026e9c6"
      },
      "source": [
        "# DataFrame as a Two-dimensional (2D) array\n",
        "- The DataFrame can be viewed as an enhanced two-dimensional array\n",
        " - View the underlying data array using the ndarray **values** attribute"
      ]
    },
    {
      "cell_type": "code",
      "execution_count": null,
      "id": "1ce3c358",
      "metadata": {
        "id": "1ce3c358"
      },
      "outputs": [],
      "source": [
        "data.values"
      ]
    },
    {
      "cell_type": "code",
      "execution_count": null,
      "id": "afed3e1b",
      "metadata": {
        "id": "afed3e1b"
      },
      "outputs": [],
      "source": [
        "data.values()"
      ]
    },
    {
      "cell_type": "markdown",
      "id": "4f9312a6",
      "metadata": {
        "id": "4f9312a6"
      },
      "source": [
        "- Transpose the array using the **T** attribute\n"
      ]
    },
    {
      "cell_type": "code",
      "execution_count": null,
      "id": "ff046a86",
      "metadata": {
        "id": "ff046a86"
      },
      "outputs": [],
      "source": [
        "data.T"
      ]
    },
    {
      "cell_type": "markdown",
      "id": "0929e2af",
      "metadata": {
        "id": "0929e2af"
      },
      "source": [
        "-The dictionary-style indexing of columns precludes simple treatment of DataFrames as NumPy arrays\n",
        " - e.g. passing a single index to an Numpy array accesses a row, passing a single index to a DataFrame accesses a column\n"
      ]
    },
    {
      "cell_type": "code",
      "execution_count": null,
      "id": "757ff0fc",
      "metadata": {
        "id": "757ff0fc"
      },
      "outputs": [],
      "source": [
        "#transpose again to put back into the original data frame\n",
        "data.T\n",
        "\n",
        "data"
      ]
    },
    {
      "cell_type": "code",
      "execution_count": null,
      "id": "12d8ffef",
      "metadata": {
        "id": "12d8ffef"
      },
      "outputs": [],
      "source": [
        "data.values[0]"
      ]
    },
    {
      "cell_type": "code",
      "execution_count": null,
      "id": "28cadd5b",
      "metadata": {
        "id": "28cadd5b"
      },
      "outputs": [],
      "source": [
        "np_data = data.to_numpy()\n",
        "\n",
        "np_data"
      ]
    },
    {
      "cell_type": "code",
      "execution_count": null,
      "id": "c31454d2",
      "metadata": {
        "id": "c31454d2"
      },
      "outputs": [],
      "source": [
        "np_data[0]"
      ]
    },
    {
      "cell_type": "code",
      "execution_count": null,
      "id": "54d67262",
      "metadata": {
        "id": "54d67262"
      },
      "outputs": [],
      "source": [
        "data['area']"
      ]
    },
    {
      "cell_type": "markdown",
      "id": "1113d15c",
      "metadata": {
        "id": "1113d15c"
      },
      "source": [
        "# Using Indexers with DataFrames\n",
        "- As with Series, Pandas uses the loc and iloc indexers with DataFrames\n",
        " - Using iloc, the underlying array can be indexed as a simple NumPy array, but the DataFrame index and column labels are maintained in the result"
      ]
    },
    {
      "cell_type": "code",
      "execution_count": null,
      "id": "7245cbf0",
      "metadata": {
        "id": "7245cbf0"
      },
      "outputs": [],
      "source": [
        "#the index goes up to, but does not include, the endpoints\n",
        "data.iloc[:3, :2]\n"
      ]
    },
    {
      "cell_type": "code",
      "execution_count": null,
      "id": "e13d6255",
      "metadata": {
        "id": "e13d6255"
      },
      "outputs": [],
      "source": [
        "#loc includes the endpoints\n",
        "data.loc[:'Florida', :'area']\n"
      ]
    },
    {
      "cell_type": "markdown",
      "id": "f3ba3ae9",
      "metadata": {
        "id": "f3ba3ae9"
      },
      "source": [
        "# Additional Indexing Conventions"
      ]
    },
    {
      "cell_type": "markdown",
      "id": "e2da5435",
      "metadata": {
        "id": "e2da5435"
      },
      "source": [
        "- For DataFrames, indexing refers to <ins>columns</ins> and slicing refers to <ins>rows</ins>"
      ]
    },
    {
      "cell_type": "code",
      "execution_count": null,
      "id": "b4db27bd",
      "metadata": {
        "id": "b4db27bd"
      },
      "outputs": [],
      "source": [
        "data['Florida':'Illinois']"
      ]
    },
    {
      "cell_type": "markdown",
      "id": "01b78538",
      "metadata": {
        "id": "01b78538"
      },
      "source": [
        "- Rows can also be accessed using row numbers"
      ]
    },
    {
      "cell_type": "code",
      "execution_count": null,
      "id": "3a541c97",
      "metadata": {
        "id": "3a541c97"
      },
      "outputs": [],
      "source": [
        "data[1:3]"
      ]
    },
    {
      "cell_type": "markdown",
      "id": "cafd9cdc",
      "metadata": {
        "id": "cafd9cdc"
      },
      "source": [
        "-Direct masking operations are row-wise rather than column-wise"
      ]
    },
    {
      "cell_type": "code",
      "execution_count": null,
      "id": "5b33280b",
      "metadata": {
        "id": "5b33280b"
      },
      "outputs": [],
      "source": [
        "data[data.density > 100]"
      ]
    },
    {
      "cell_type": "markdown",
      "id": "893107e1",
      "metadata": {
        "id": "893107e1"
      },
      "source": [
        "# Index Preservation\n",
        "- Because Pandas is designed to work with NumPy, any NumPy ufunc will work on Pandas Series and DataFrame objects\n"
      ]
    },
    {
      "cell_type": "code",
      "execution_count": null,
      "id": "e763e526",
      "metadata": {
        "id": "e763e526"
      },
      "outputs": [],
      "source": [
        "df = pd.DataFrame(np.random.randint(0, 10, (3, 4)), columns=['A', 'B', 'C', 'D'])\n",
        "\n",
        "df"
      ]
    },
    {
      "cell_type": "code",
      "execution_count": null,
      "id": "0453c3ef",
      "metadata": {
        "id": "0453c3ef"
      },
      "outputs": [],
      "source": [
        "newDF = 2 ** df\n",
        "\n",
        "newDF"
      ]
    },
    {
      "cell_type": "markdown",
      "id": "1efb6d47",
      "metadata": {
        "id": "1efb6d47"
      },
      "source": [
        "# Index Alignment in Series\n",
        "- Pandas will align (combine) indices in the process of performing binary operations"
      ]
    },
    {
      "cell_type": "code",
      "execution_count": null,
      "id": "fadc6fb4",
      "metadata": {
        "id": "fadc6fb4"
      },
      "outputs": [],
      "source": [
        "area = pd.Series({'Alaska': 1723337, 'Texas': 695662,\n",
        "                  'California': 423967}, name='area')\n",
        "\n",
        "population = pd.Series({'California': 38332521, 'Texas': 26448193,\n",
        "                        'New York': 19651127}, name='population')"
      ]
    },
    {
      "cell_type": "code",
      "execution_count": null,
      "id": "32deeb1f",
      "metadata": {
        "id": "32deeb1f"
      },
      "outputs": [],
      "source": [
        "area"
      ]
    },
    {
      "cell_type": "code",
      "execution_count": null,
      "id": "ebc7cc17",
      "metadata": {
        "id": "ebc7cc17"
      },
      "outputs": [],
      "source": [
        "population"
      ]
    },
    {
      "cell_type": "markdown",
      "id": "d9119840",
      "metadata": {
        "id": "d9119840"
      },
      "source": [
        "-The result of a binary operation contains the union of indices of the two input objects\n",
        " - Any item for which one or the other does not have an entry is marked with NaN, or “Not a Number,” which is how Pandas marks missing data"
      ]
    },
    {
      "cell_type": "code",
      "execution_count": null,
      "id": "a2d3d06c",
      "metadata": {
        "id": "a2d3d06c"
      },
      "outputs": [],
      "source": [
        "population / area"
      ]
    },
    {
      "cell_type": "markdown",
      "id": "5f4861a0",
      "metadata": {
        "id": "5f4861a0"
      },
      "source": [
        "- If using NaN values is not the desired behavior, we can modify the fill value using appropriate object methods in place of the operators.\n"
      ]
    },
    {
      "cell_type": "code",
      "execution_count": null,
      "id": "ff15b2e0",
      "metadata": {
        "id": "ff15b2e0"
      },
      "outputs": [],
      "source": [
        "# Instead of population / area, call this:\n",
        "population.divide(area, fill_value=1.0)\n"
      ]
    },
    {
      "cell_type": "markdown",
      "id": "7da08d34",
      "metadata": {
        "id": "7da08d34"
      },
      "source": [
        "# Index Alignment in DataFrames\n",
        "- Index alignment takes place for both columns and indices when you are performing operations on DataFrames"
      ]
    },
    {
      "cell_type": "code",
      "execution_count": null,
      "id": "baf1030a",
      "metadata": {
        "id": "baf1030a"
      },
      "outputs": [],
      "source": [
        "A = pd.DataFrame(np.random.randint(0, 20, (2, 2)),\n",
        "                 columns=list('AB'))\n",
        "A"
      ]
    },
    {
      "cell_type": "code",
      "execution_count": null,
      "id": "7baccae5",
      "metadata": {
        "id": "7baccae5"
      },
      "outputs": [],
      "source": [
        "B = pd.DataFrame(np.random.randint(0, 10, (3, 3)),\n",
        "                 columns=list('BAC'))\n",
        "\n",
        "B"
      ]
    },
    {
      "cell_type": "code",
      "execution_count": null,
      "id": "65a26c55",
      "metadata": {
        "id": "65a26c55"
      },
      "outputs": [],
      "source": [
        "B + A"
      ]
    },
    {
      "cell_type": "markdown",
      "id": "66fd686d",
      "metadata": {
        "id": "66fd686d"
      },
      "source": [
        "- Indices are sorted and aligned correctly irrespective of their order in the two objects\n",
        " - Notice in the combined DataFrame the columns are in alphabetical order\n"
      ]
    },
    {
      "cell_type": "markdown",
      "id": "750de6da",
      "metadata": {
        "id": "750de6da"
      },
      "source": [
        "##### -  - - - - - - - - - - - - - - - - - - - - - - - -"
      ]
    },
    {
      "cell_type": "markdown",
      "id": "3f2a1578",
      "metadata": {
        "id": "3f2a1578"
      },
      "source": [
        "- As with Series, the object’s arithmetic methods can be used to pass any desired fill_value in place of missing entries\n"
      ]
    },
    {
      "cell_type": "code",
      "execution_count": null,
      "id": "5b330f1a",
      "metadata": {
        "id": "5b330f1a"
      },
      "outputs": [],
      "source": [
        "# calculate mean of all elements of A and use for fill\n",
        "fill = A.stack().mean()\n",
        "\n",
        "fill\n"
      ]
    },
    {
      "cell_type": "code",
      "execution_count": null,
      "id": "bcf3a5e2",
      "metadata": {
        "id": "bcf3a5e2"
      },
      "outputs": [],
      "source": [
        "A"
      ]
    },
    {
      "cell_type": "code",
      "execution_count": null,
      "id": "d3acfbbb",
      "metadata": {
        "id": "d3acfbbb"
      },
      "outputs": [],
      "source": [
        "B"
      ]
    },
    {
      "cell_type": "code",
      "execution_count": null,
      "id": "679325c1",
      "metadata": {
        "id": "679325c1"
      },
      "outputs": [],
      "source": [
        "A.add(B, fill_value=fill)"
      ]
    },
    {
      "cell_type": "markdown",
      "id": "648045ce",
      "metadata": {
        "id": "648045ce"
      },
      "source": [
        "# Handling Missing Values\n",
        "- Real-world data is rarely clean and homogeneous\n",
        " - Many datasets will have missing data\n",
        "- Different data sources may indicate missing data in different ways\n",
        " - Using a mask\n",
        "  - as a separate Boolean array\n",
        "  - as a single bit in the data representation\n",
        " - Using a sentinel value\n",
        "  - a data-specific convention, e.g. for missing integers use –9999 or some rare bit pattern\n",
        "  - NaN (Not a Number) for missing floating point values\n",
        "   - NaN is part of the IEEE floating-point specification\n",
        "- No universally common choice exists, different languages and systems use different conventions.\n",
        "- Pandas uses sentinels for missing data, using two already-existing Python null values: the special floating-point NaN value, and the Python None object\n",
        " - This results in some side effects, but in practice is a good compromise.\n",
        "- None is a \"singleton\" object – there can exist only one.\n",
        " - -- \"The None keyword is used to define a null value, or no value at all. None is not the same as 0, False, or an empty string. None is a datatype of its own (NoneType) and only None can be None\"\n",
        "https://www.w3schools.com/python/ref_keyword_none.asp\n"
      ]
    },
    {
      "cell_type": "markdown",
      "id": "08b2c81c",
      "metadata": {
        "id": "08b2c81c"
      },
      "source": [
        "# Using None in NumPy\n",
        "- Because None is a Python object, it cannot be used in any arbitrary NumPy/Pandas array, but only in arrays with data type 'object' (i.e., arrays of Python objects).\n"
      ]
    },
    {
      "cell_type": "code",
      "execution_count": null,
      "id": "9776211c",
      "metadata": {
        "id": "9776211c"
      },
      "outputs": [],
      "source": [
        "vals1 = np.array([1, None, 3, 4])\n",
        "vals1\n"
      ]
    },
    {
      "cell_type": "code",
      "execution_count": null,
      "id": "ab92db51",
      "metadata": {
        "id": "ab92db51"
      },
      "outputs": [],
      "source": [
        "vals1.dtype"
      ]
    },
    {
      "cell_type": "markdown",
      "id": "321a747f",
      "metadata": {
        "id": "321a747f"
      },
      "source": [
        "- dtype=object means that the best common type representation NumPy could infer for the contents of the array is that they are Python objects.\n",
        "- Object arrays can be useful, but operations on the data will be done at the Python level, with much more overhead than the typically fast operations seen for arrays with native types\n",
        " - If you perform aggregations like sum() or min() across an array with a None value, you will generally get an error since operations between numbers and None are undefined\n"
      ]
    },
    {
      "cell_type": "markdown",
      "id": "533e2012",
      "metadata": {
        "id": "533e2012"
      },
      "source": [
        "# Using NaN in NumPy\n",
        "- The other missing data representation, NaN (acronym for Not a Number), is different; it is a special floating-point value recognized by all systems that use the standard IEEE floating-point representation.\n",
        " - NaN is specifically a floating-point value; there is no equivalent NaN value for integers, strings, or other types.\n",
        "- NumPy uses a native floating-point type for arrays containing NaN.\n",
        " - Unlike the object array from before, this array supports fast operations pushed into compiled code.\n"
      ]
    },
    {
      "cell_type": "code",
      "execution_count": null,
      "id": "cbf07340",
      "metadata": {
        "id": "cbf07340"
      },
      "outputs": [],
      "source": [
        "vals2 = np.array([1, np.nan, 3, 4])\n",
        "vals2\n"
      ]
    },
    {
      "cell_type": "code",
      "execution_count": null,
      "id": "8efeeaec",
      "metadata": {
        "id": "8efeeaec"
      },
      "outputs": [],
      "source": [
        "vals2.dtype"
      ]
    },
    {
      "cell_type": "markdown",
      "id": "80e770c0",
      "metadata": {
        "id": "80e770c0"
      },
      "source": [
        "- \"NaN is a bit like a data virus—it infects any other object it touches.\"\n",
        " - [VanderPlas, Python Data Science Handbook]\n",
        "- NaN values will propagate through numeric operations\n",
        " - The result of arithmetic with a NaN will be another NaN\n"
      ]
    },
    {
      "cell_type": "code",
      "execution_count": null,
      "id": "963dca7c",
      "metadata": {
        "id": "963dca7c"
      },
      "outputs": [],
      "source": [
        "1 + np.nan"
      ]
    },
    {
      "cell_type": "code",
      "execution_count": null,
      "id": "92e692e3",
      "metadata": {
        "id": "92e692e3"
      },
      "outputs": [],
      "source": [
        "0 *  np.nan"
      ]
    },
    {
      "cell_type": "markdown",
      "id": "8464b895",
      "metadata": {
        "id": "8464b895"
      },
      "source": [
        "- Using aggregate functions with NaN values does not result in errors, but the results aren't very useful\n"
      ]
    },
    {
      "cell_type": "code",
      "execution_count": null,
      "id": "e9056e1e",
      "metadata": {
        "id": "e9056e1e"
      },
      "outputs": [],
      "source": [
        "vals2"
      ]
    },
    {
      "cell_type": "code",
      "execution_count": null,
      "id": "b8c695a7",
      "metadata": {
        "id": "b8c695a7"
      },
      "outputs": [],
      "source": [
        "vals2.sum()"
      ]
    },
    {
      "cell_type": "code",
      "execution_count": null,
      "id": "f70b68ac",
      "metadata": {
        "id": "f70b68ac"
      },
      "outputs": [],
      "source": [
        "vals2.min()"
      ]
    },
    {
      "cell_type": "code",
      "execution_count": null,
      "id": "17198e4d",
      "metadata": {
        "id": "17198e4d"
      },
      "outputs": [],
      "source": [
        "vals2.max()"
      ]
    },
    {
      "cell_type": "markdown",
      "id": "4c6b73eb",
      "metadata": {
        "id": "4c6b73eb"
      },
      "source": [
        "- NumPy provides special aggregations that will ignore these missing values:\n"
      ]
    },
    {
      "cell_type": "code",
      "execution_count": null,
      "id": "1244e533",
      "metadata": {
        "id": "1244e533"
      },
      "outputs": [],
      "source": [
        "vals2"
      ]
    },
    {
      "cell_type": "code",
      "execution_count": null,
      "id": "4ab06e1b",
      "metadata": {
        "id": "4ab06e1b"
      },
      "outputs": [],
      "source": [
        "np.nansum(vals2)"
      ]
    },
    {
      "cell_type": "code",
      "execution_count": null,
      "id": "727ae5ee",
      "metadata": {
        "id": "727ae5ee"
      },
      "outputs": [],
      "source": [
        "np.nanmin(vals2)"
      ]
    },
    {
      "cell_type": "code",
      "execution_count": null,
      "id": "3e4f9474",
      "metadata": {
        "id": "3e4f9474"
      },
      "outputs": [],
      "source": [
        "np.nanmax(vals2)"
      ]
    },
    {
      "cell_type": "markdown",
      "id": "1c1c2f6d",
      "metadata": {
        "id": "1c1c2f6d"
      },
      "source": [
        "# NaN and None in Pandas\n",
        "- Pandas is built to handle NaN and None nearly interchangeably, converting between them where appropriate\n",
        "\n"
      ]
    },
    {
      "cell_type": "code",
      "execution_count": null,
      "id": "2b93ba98",
      "metadata": {
        "id": "2b93ba98"
      },
      "outputs": [],
      "source": [
        "pd.Series([1, np.nan, 2, None])"
      ]
    },
    {
      "cell_type": "markdown",
      "id": "3b78537e",
      "metadata": {
        "id": "3b78537e"
      },
      "source": [
        "- When integer values are set to NaN or None, the data type is automatically up-cast to floating point\n",
        " - None is automatically converted to a NaN value\n"
      ]
    },
    {
      "cell_type": "code",
      "execution_count": null,
      "id": "dacbfd2e",
      "metadata": {
        "id": "dacbfd2e"
      },
      "outputs": [],
      "source": [
        "x = pd.Series(range(2), dtype=int)\n",
        "\n",
        "x"
      ]
    },
    {
      "cell_type": "code",
      "execution_count": null,
      "id": "25f392f3",
      "metadata": {
        "id": "25f392f3"
      },
      "outputs": [],
      "source": [
        "x[0] = None\n",
        "\n",
        "x"
      ]
    },
    {
      "cell_type": "markdown",
      "id": "6f87c32b",
      "metadata": {
        "id": "6f87c32b"
      },
      "source": [
        "# Operating on Null Values\n",
        "- There are several methods for detecting, removing, and replacing null values in Pandas data structures.\n",
        " - isnull()\n",
        " -- Generate a Boolean mask indicating missing values\n",
        " - notnull()\n",
        " -- Opposite of isnull()\n",
        " - dropna()\n",
        " -- Return a filtered version of the data\n",
        " - fillna()\n",
        " -- Return a copy of the data with missing values filled or imputed\n"
      ]
    },
    {
      "cell_type": "markdown",
      "id": "4e1f423b",
      "metadata": {
        "id": "4e1f423b"
      },
      "source": [
        "# Detecting Null Values\n",
        "- Using isnull()"
      ]
    },
    {
      "cell_type": "code",
      "execution_count": null,
      "id": "d8a83452",
      "metadata": {
        "id": "d8a83452"
      },
      "outputs": [],
      "source": [
        "data = pd.Series([1, np.nan, 'hello', None])\n",
        "\n",
        "data\n"
      ]
    },
    {
      "cell_type": "code",
      "execution_count": null,
      "id": "ea954e46",
      "metadata": {
        "id": "ea954e46"
      },
      "outputs": [],
      "source": [
        "data.isnull()"
      ]
    },
    {
      "cell_type": "markdown",
      "id": "4023d399",
      "metadata": {
        "id": "4023d399"
      },
      "source": [
        "- Boolean masks can be used to index Series or DataFrames"
      ]
    },
    {
      "cell_type": "code",
      "execution_count": null,
      "id": "f8449c28",
      "metadata": {
        "id": "f8449c28"
      },
      "outputs": [],
      "source": [
        "data.notnull()"
      ]
    },
    {
      "cell_type": "code",
      "execution_count": null,
      "id": "6b63c22b",
      "metadata": {
        "id": "6b63c22b"
      },
      "outputs": [],
      "source": [
        "data[data.notnull()]"
      ]
    },
    {
      "cell_type": "markdown",
      "id": "eedf2e8f",
      "metadata": {
        "id": "eedf2e8f"
      },
      "source": [
        "# Dropping Null Values in Series\n",
        "- The dropna() method returns a new Series without the nulls"
      ]
    },
    {
      "cell_type": "code",
      "execution_count": null,
      "id": "2e700945",
      "metadata": {
        "id": "2e700945"
      },
      "outputs": [],
      "source": [
        "data\n",
        "\n"
      ]
    },
    {
      "cell_type": "code",
      "execution_count": null,
      "id": "167860bd",
      "metadata": {
        "id": "167860bd"
      },
      "outputs": [],
      "source": [
        "data.dropna()"
      ]
    },
    {
      "cell_type": "markdown",
      "id": "b2a42b4b",
      "metadata": {
        "id": "b2a42b4b"
      },
      "source": [
        "- By default, dropna() will drop full rows with any nulls\n"
      ]
    },
    {
      "cell_type": "code",
      "execution_count": null,
      "id": "bf460b8e",
      "metadata": {
        "id": "bf460b8e"
      },
      "outputs": [],
      "source": [
        "df = pd.DataFrame([ [1,      np.nan, 2],\n",
        "                    [2,      3,      5],\n",
        "                    [np.nan, 4,      6]])\n",
        "\n",
        "df"
      ]
    },
    {
      "cell_type": "code",
      "execution_count": null,
      "id": "bc01c833",
      "metadata": {
        "id": "bc01c833"
      },
      "outputs": [],
      "source": [
        "df.dropna()\n"
      ]
    },
    {
      "cell_type": "markdown",
      "id": "d5288f0a",
      "metadata": {
        "id": "d5288f0a"
      },
      "source": [
        "- axis='columns' drops all columns containing a null value\n"
      ]
    },
    {
      "cell_type": "code",
      "execution_count": null,
      "id": "7559d86a",
      "metadata": {
        "id": "7559d86a"
      },
      "outputs": [],
      "source": [
        "df"
      ]
    },
    {
      "cell_type": "code",
      "execution_count": null,
      "id": "b9b19d16",
      "metadata": {
        "id": "b9b19d16"
      },
      "outputs": [],
      "source": [
        "df.dropna(axis='columns')"
      ]
    },
    {
      "cell_type": "markdown",
      "id": "64ae3cd6",
      "metadata": {
        "id": "64ae3cd6"
      },
      "source": [
        "- the thresh argument specifies a minimum drop threshold"
      ]
    },
    {
      "cell_type": "code",
      "execution_count": null,
      "id": "4e9c613b",
      "metadata": {
        "id": "4e9c613b"
      },
      "outputs": [],
      "source": [
        "df = pd.DataFrame([[1,      np.nan, 2],\n",
        "                   [8,      np.nan, np.nan],\n",
        "                   [np.nan, np.nan, np.nan]])\n",
        "\n",
        "df"
      ]
    },
    {
      "cell_type": "code",
      "execution_count": null,
      "id": "4fa9d973",
      "metadata": {
        "id": "4fa9d973"
      },
      "outputs": [],
      "source": [
        "df.dropna(thresh=2)"
      ]
    },
    {
      "cell_type": "markdown",
      "id": "2a3e1d80",
      "metadata": {
        "id": "2a3e1d80"
      },
      "source": [
        "# Filling Null Values in Series\n",
        "- Pandas provides the fillna() method to replace the null values in a Series\n",
        " - fillna() returns a copy of the array with the null values replaced\n"
      ]
    },
    {
      "cell_type": "code",
      "execution_count": null,
      "id": "09dffab1",
      "metadata": {
        "id": "09dffab1"
      },
      "outputs": [],
      "source": [
        "data = pd.Series([1, np.nan, 2, None, 3],\n",
        "                 index=list('abcde'))\n",
        "data\n"
      ]
    },
    {
      "cell_type": "code",
      "execution_count": null,
      "id": "e2f72405",
      "metadata": {
        "id": "e2f72405"
      },
      "outputs": [],
      "source": [
        "data.fillna(0)"
      ]
    },
    {
      "cell_type": "markdown",
      "id": "6bd63bc1",
      "metadata": {
        "id": "6bd63bc1"
      },
      "source": [
        "- Pandas provides the method argument with fillna() to specify how to fill the values\n",
        " - Choices are  ‘bfill’, ‘ffill’, and None (defaults to None)"
      ]
    },
    {
      "cell_type": "code",
      "execution_count": null,
      "id": "0c64f485",
      "metadata": {
        "id": "0c64f485"
      },
      "outputs": [],
      "source": [
        "data\n"
      ]
    },
    {
      "cell_type": "code",
      "execution_count": null,
      "id": "4e2dbfbe",
      "metadata": {
        "id": "4e2dbfbe"
      },
      "outputs": [],
      "source": [
        "print(data.fillna(method='ffill'))\n",
        "\n"
      ]
    },
    {
      "cell_type": "code",
      "execution_count": null,
      "id": "0786dd54",
      "metadata": {
        "id": "0786dd54"
      },
      "outputs": [],
      "source": [
        "print(data.fillna(method='bfill'))"
      ]
    },
    {
      "cell_type": "markdown",
      "id": "acc9e712",
      "metadata": {
        "id": "acc9e712"
      },
      "source": [
        "- Fillna() options for DataFrames are similar to Series\n",
        "- An axis for fills can be specified\n",
        " - Choices are axis = 0 for index (default) and axis = 1 for column\n",
        " - If first value is NaN, subsequent fill does not occur\n"
      ]
    },
    {
      "cell_type": "code",
      "execution_count": null,
      "id": "eabaf422",
      "metadata": {
        "id": "eabaf422"
      },
      "outputs": [],
      "source": [
        "df = pd.DataFrame([[1,      np.nan, 2],\n",
        "                   [2,      3,      5],\n",
        "                   [8,      np.nan, np.nan],\n",
        "                   [np.nan, 4,      6]])\n",
        "\n"
      ]
    },
    {
      "cell_type": "code",
      "execution_count": null,
      "id": "9effbf10",
      "metadata": {
        "id": "9effbf10"
      },
      "outputs": [],
      "source": [
        "df\n"
      ]
    },
    {
      "cell_type": "code",
      "execution_count": null,
      "id": "9ef1f346",
      "metadata": {
        "id": "9ef1f346"
      },
      "outputs": [],
      "source": [
        "newDf = df.fillna(method='ffill', axis=0)   # index fill\n",
        "\n"
      ]
    },
    {
      "cell_type": "code",
      "execution_count": null,
      "id": "62f2afbc",
      "metadata": {
        "id": "62f2afbc"
      },
      "outputs": [],
      "source": [
        "newDf.fillna(method='ffill', axis=1)  # column fill"
      ]
    }
  ],
  "metadata": {
    "kernelspec": {
      "display_name": "Python 3",
      "language": "python",
      "name": "python3"
    },
    "language_info": {
      "codemirror_mode": {
        "name": "ipython",
        "version": 3
      },
      "file_extension": ".py",
      "mimetype": "text/x-python",
      "name": "python",
      "nbconvert_exporter": "python",
      "pygments_lexer": "ipython3",
      "version": "3.9.1"
    },
    "colab": {
      "provenance": []
    }
  },
  "nbformat": 4,
  "nbformat_minor": 5
}