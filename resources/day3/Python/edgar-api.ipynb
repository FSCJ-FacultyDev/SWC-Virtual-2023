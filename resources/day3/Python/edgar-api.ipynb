{
  "nbformat": 4,
  "nbformat_minor": 0,
  "metadata": {
    "colab": {
      "provenance": []
    },
    "kernelspec": {
      "name": "python3",
      "display_name": "Python 3"
    },
    "language_info": {
      "name": "python"
    }
  },
  "cells": [
    {
      "cell_type": "code",
      "execution_count": 15,
      "metadata": {
        "id": "vGqGCMbqpk8n"
      },
      "outputs": [],
      "source": [
        "import requests\n",
        "import sys\n",
        "import inspect\n",
        "import json"
      ]
    },
    {
      "cell_type": "code",
      "source": [
        "# https://www.sec.gov/edgar/sec-api-documentation\n",
        "try:\n",
        "    #User-Agent: Sample Company Name AdminContact@<sample company domain>.com\n",
        "    hStr = {'User-Agent': 'fscj.edu', 'Content-Type': 'json'}\n",
        "    r = requests.get('https://data.sec.gov/submissions/CIK0001136101.json',\n",
        "                     headers=hStr)\n",
        "    json_formatted_str = json.dumps(r.json(), indent=2)\n",
        "    #print(r.status_code, r.json())\n",
        "    print(r.status_code)\n",
        "    print(json_formatted_str)\n",
        "except requests.exceptions.JSONDecodeError:\n",
        "    print('error in get(', url, ')', sep=\"\")"
      ],
      "metadata": {
        "colab": {
          "base_uri": "https://localhost:8080/"
        },
        "id": "1nDuDcg_p1Cc",
        "outputId": "a1c2ea83-09ba-45d5-e3bd-38366b812f6a"
      },
      "execution_count": 19,
      "outputs": [
        {
          "output_type": "stream",
          "name": "stdout",
          "text": [
            "200\n",
            "{\n",
            "  \"cik\": \"1136101\",\n",
            "  \"entityType\": \"other\",\n",
            "  \"sic\": \"\",\n",
            "  \"sicDescription\": \"\",\n",
            "  \"insiderTransactionForOwnerExists\": 0,\n",
            "  \"insiderTransactionForIssuerExists\": 0,\n",
            "  \"name\": \"GOOGLE INC\",\n",
            "  \"tickers\": [],\n",
            "  \"exchanges\": [],\n",
            "  \"ein\": null,\n",
            "  \"description\": \"\",\n",
            "  \"website\": \"\",\n",
            "  \"investorWebsite\": \"\",\n",
            "  \"category\": \"\",\n",
            "  \"fiscalYearEnd\": null,\n",
            "  \"stateOfIncorporation\": \"\",\n",
            "  \"stateOfIncorporationDescription\": \"\",\n",
            "  \"addresses\": {\n",
            "    \"mailing\": {\n",
            "      \"street1\": null,\n",
            "      \"street2\": null,\n",
            "      \"city\": null,\n",
            "      \"stateOrCountry\": null,\n",
            "      \"zipCode\": null,\n",
            "      \"stateOrCountryDescription\": null\n",
            "    },\n",
            "    \"business\": {\n",
            "      \"street1\": \"2400 BAYSHORE PARKWAY\",\n",
            "      \"street2\": null,\n",
            "      \"city\": \"MOUNTAIN VIEW\",\n",
            "      \"stateOrCountry\": \"CA\",\n",
            "      \"zipCode\": \"94043\",\n",
            "      \"stateOrCountryDescription\": \"CA\"\n",
            "    }\n",
            "  },\n",
            "  \"phone\": \"650-318-0200\",\n",
            "  \"flags\": \"\",\n",
            "  \"formerNames\": [],\n",
            "  \"filings\": {\n",
            "    \"recent\": {\n",
            "      \"accessionNumber\": [],\n",
            "      \"filingDate\": [],\n",
            "      \"reportDate\": [],\n",
            "      \"acceptanceDateTime\": [],\n",
            "      \"act\": [],\n",
            "      \"form\": [],\n",
            "      \"fileNumber\": [],\n",
            "      \"filmNumber\": [],\n",
            "      \"items\": [],\n",
            "      \"size\": [],\n",
            "      \"isXBRL\": [],\n",
            "      \"isInlineXBRL\": [],\n",
            "      \"primaryDocument\": [],\n",
            "      \"primaryDocDescription\": []\n",
            "    },\n",
            "    \"files\": []\n",
            "  }\n",
            "}\n"
          ]
        }
      ]
    },
    {
      "cell_type": "code",
      "source": [],
      "metadata": {
        "id": "3BOH9DTKp73R"
      },
      "execution_count": null,
      "outputs": []
    }
  ]
}